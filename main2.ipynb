{
 "cells": [
  {
   "attachments": {},
   "cell_type": "markdown",
   "metadata": {},
   "source": [
    "## 调库和准备"
   ]
  },
  {
   "cell_type": "code",
   "execution_count": 18,
   "metadata": {},
   "outputs": [],
   "source": [
    "import os\n",
    "\n",
    "import pandas as pd\n",
    "\n",
    "import cv2\n",
    "import numpy as np\n",
    "\n",
    "from sklearn import svm\n",
    "from sklearn.svm import SVC\n",
    "from sklearn.model_selection import train_test_split\n",
    "from sklearn.metrics import accuracy_score\n",
    "from sklearn.preprocessing import StandardScaler\n",
    "from sklearn.metrics import accuracy_score, precision_score, recall_score, f1_score\n",
    "\n",
    "\n",
    "from keras.applications.vgg16 import VGG16, preprocess_input\n",
    "from keras.preprocessing import image\n",
    "from keras.preprocessing.text import Tokenizer\n",
    "from keras.models import Sequential, Model\n",
    "from keras.layers import Embedding, LSTM, Input, Flatten, Dense,Input, Conv2D, MaxPooling2D, Flatten, Dense\n",
    "from tensorflow.keras.preprocessing.sequence import pad_sequences\n",
    "\n",
    "from PIL import Image\n",
    "from progressbar import ProgressBar\n",
    "from tqdm import tqdm\n",
    "import time\n",
    "import warnings\n",
    "\n",
    "warnings.filterwarnings(\"ignore\", category=UserWarning)\n",
    "\n",
    "pbar = ProgressBar()\n",
    "\n",
    "tags_len = 30\n",
    "pos_images = []\n",
    "neg_images = []\n",
    "pos_labels = []\n",
    "neg_labels = []\n",
    "y = []\n",
    "features = []\n",
    "light_dict = {}\n",
    "pos_dir = \"\"\n",
    "neg_dir = \"\"\n",
    "# 读取图像和标签数据\n",
    "pos_dir = \"C:/Users/younger/Pictures/ApplePic/photo_tag/useful_1\"\n",
    "neg_dir = \"C:/Users/younger/Pictures/ApplePic/photo_tag/useless_1\"\n",
    "\n",
    "kernel1 = ([-1,-1,-1],\n",
    "           [-1, 8,-1],\n",
    "           [-1,-1,-1])"
   ]
  },
  {
   "attachments": {},
   "cell_type": "markdown",
   "metadata": {},
   "source": [
    "## 图片导入预处理"
   ]
  },
  {
   "cell_type": "code",
   "execution_count": 19,
   "metadata": {},
   "outputs": [
    {
     "name": "stdout",
     "output_type": "stream",
     "text": [
      "正在获取并预处理照片...\n",
      "\n",
      "positive images:\n",
      "\n"
     ]
    },
    {
     "name": "stderr",
     "output_type": "stream",
     "text": [
      "100%|██████████| 14/14 [00:00<00:00, 297.88it/s]\n"
     ]
    },
    {
     "name": "stdout",
     "output_type": "stream",
     "text": [
      "negative images:\n",
      "\n"
     ]
    },
    {
     "name": "stderr",
     "output_type": "stream",
     "text": [
      "100%|██████████| 14/14 [00:00<00:00, 311.11it/s]\n"
     ]
    }
   ],
   "source": [
    "kernel_conv = np.array(kernel1)\n",
    "\n",
    "print(\"正在获取并预处理照片...\\n\")\n",
    "print(\"positive images:\\n\")\n",
    "\n",
    "for f in tqdm(os.listdir(pos_dir)):\n",
    "    if f.endswith(\".txt\"):\n",
    "        with open(os.path.join(pos_dir, f)) as file:\n",
    "            lines = file.read().splitlines()\n",
    "            for line in lines:\n",
    "                line = line.split(',')\n",
    "                pos_labels.append(line)\n",
    "    elif f.endswith(\".png\"):\n",
    "        img_lines = cv2.imread(os.path.join(pos_dir, f))\n",
    "        #conv_img = cv2.filter2D(img_lines, cv2.CV_64F, kernel_conv)\n",
    "        pos_images.append(img_lines)\n",
    "\n",
    "print(\"negative images:\\n\")\n",
    "for f in tqdm(os.listdir(neg_dir)):\n",
    "    if f.endswith(\".txt\"):\n",
    "        with open(os.path.join(neg_dir, f)) as file:\n",
    "            lines = file.read().splitlines()\n",
    "            for line in lines:\n",
    "                line = line.split(',')\n",
    "                neg_labels.append(lines)\n",
    "    if f.endswith(\".png\"):\n",
    "        img_lines = cv2.imread(os.path.join(neg_dir, f))\n",
    "        neg_images.append(img_lines)\n",
    "\n"
   ]
  },
  {
   "attachments": {},
   "cell_type": "markdown",
   "metadata": {},
   "source": [
    "## 构建特征向量矩阵"
   ]
  },
  {
   "cell_type": "code",
   "execution_count": 20,
   "metadata": {},
   "outputs": [],
   "source": [
    "def extract_image_features(image):\n",
    "    # 加载 VGG16 模型\n",
    "    model = VGG16(weights='imagenet', include_top=False)\n",
    "    # 预处理图像\n",
    "    img = cv2.resize(image, (512,512))\n",
    "    img = np.expand_dims(img, axis=0)\n",
    "    img = preprocess_input(img)\n",
    "    #print(img)\n",
    "    # 提取特征向量\n",
    "    img_features = model.predict(img, verbose=0)\n",
    "    img_features = img_features.flatten()\n",
    "    return img_features\n",
    "\n",
    "# 提取标签特征向量\n",
    "def extract_tag_features(labels):\n",
    "    # 构建标签向量\n",
    "    tokenizer = Tokenizer()\n",
    "    tokenizer.fit_on_texts(labels)\n",
    "    sequences = tokenizer.texts_to_sequences(labels)\n",
    "    tag_features = pad_sequences(sequences, maxlen=tags_len)\n",
    "    # 构建 LSTM 模型\n",
    "    model = Sequential()\n",
    "    model.add(Embedding(input_dim=len(tokenizer.word_index)+1, output_dim=64, input_length=tags_len))\n",
    "    model.add(LSTM(64, dropout=0.2, recurrent_dropout=0.2))\n",
    "    tag_features = model.predict(tag_features, verbose=0)\n",
    "    tag_features = np.pad(tag_features, ((0, tags_len - len(tag_features)), (0, 0)), mode='constant')\n",
    "    print(tag_features.shape)\n",
    "    return tag_features\n"
   ]
  },
  {
   "cell_type": "markdown",
   "metadata": {},
   "source": [
    "## 提取特征向量"
   ]
  },
  {
   "cell_type": "code",
   "execution_count": 21,
   "metadata": {},
   "outputs": [
    {
     "name": "stdout",
     "output_type": "stream",
     "text": [
      "正在提取特征向量...\n",
      "\n"
     ]
    },
    {
     "name": "stderr",
     "output_type": "stream",
     "text": [
      "1it [00:01,  1.18s/it]"
     ]
    },
    {
     "name": "stdout",
     "output_type": "stream",
     "text": [
      "(30, 64)\n"
     ]
    },
    {
     "name": "stderr",
     "output_type": "stream",
     "text": [
      "2it [00:02,  1.17s/it]"
     ]
    },
    {
     "name": "stdout",
     "output_type": "stream",
     "text": [
      "(30, 64)\n"
     ]
    },
    {
     "name": "stderr",
     "output_type": "stream",
     "text": [
      "3it [00:03,  1.19s/it]"
     ]
    },
    {
     "name": "stdout",
     "output_type": "stream",
     "text": [
      "(30, 64)\n"
     ]
    },
    {
     "name": "stderr",
     "output_type": "stream",
     "text": [
      "4it [00:04,  1.23s/it]"
     ]
    },
    {
     "name": "stdout",
     "output_type": "stream",
     "text": [
      "(30, 64)\n"
     ]
    },
    {
     "name": "stderr",
     "output_type": "stream",
     "text": [
      "5it [00:05,  1.20s/it]"
     ]
    },
    {
     "name": "stdout",
     "output_type": "stream",
     "text": [
      "(30, 64)\n"
     ]
    },
    {
     "name": "stderr",
     "output_type": "stream",
     "text": [
      "6it [00:07,  1.17s/it]"
     ]
    },
    {
     "name": "stdout",
     "output_type": "stream",
     "text": [
      "(30, 64)\n"
     ]
    },
    {
     "name": "stderr",
     "output_type": "stream",
     "text": [
      "7it [00:08,  1.18s/it]\n"
     ]
    },
    {
     "name": "stdout",
     "output_type": "stream",
     "text": [
      "(30, 64)\n"
     ]
    },
    {
     "name": "stderr",
     "output_type": "stream",
     "text": [
      "1it [00:01,  1.16s/it]"
     ]
    },
    {
     "name": "stdout",
     "output_type": "stream",
     "text": [
      "(30, 64)\n"
     ]
    },
    {
     "name": "stderr",
     "output_type": "stream",
     "text": [
      "2it [00:02,  1.18s/it]"
     ]
    },
    {
     "name": "stdout",
     "output_type": "stream",
     "text": [
      "(30, 64)\n"
     ]
    },
    {
     "name": "stderr",
     "output_type": "stream",
     "text": [
      "3it [00:03,  1.17s/it]"
     ]
    },
    {
     "name": "stdout",
     "output_type": "stream",
     "text": [
      "(30, 64)\n"
     ]
    },
    {
     "name": "stderr",
     "output_type": "stream",
     "text": [
      "4it [00:04,  1.28s/it]"
     ]
    },
    {
     "name": "stdout",
     "output_type": "stream",
     "text": [
      "(30, 64)\n"
     ]
    },
    {
     "name": "stderr",
     "output_type": "stream",
     "text": [
      "5it [00:06,  1.24s/it]"
     ]
    },
    {
     "name": "stdout",
     "output_type": "stream",
     "text": [
      "(30, 64)\n"
     ]
    },
    {
     "name": "stderr",
     "output_type": "stream",
     "text": [
      "6it [00:07,  1.21s/it]"
     ]
    },
    {
     "name": "stdout",
     "output_type": "stream",
     "text": [
      "(30, 64)\n"
     ]
    },
    {
     "name": "stderr",
     "output_type": "stream",
     "text": [
      "7it [00:08,  1.21s/it]"
     ]
    },
    {
     "name": "stdout",
     "output_type": "stream",
     "text": [
      "(30, 64)\n",
      "特征提取完毕！\n",
      "\n"
     ]
    },
    {
     "name": "stderr",
     "output_type": "stream",
     "text": [
      "\n"
     ]
    }
   ],
   "source": [
    "\n",
    "scaler = StandardScaler()\n",
    "print(\"正在提取特征向量...\\n\")\n",
    "y = []\n",
    "features = []\n",
    "for img, lables in tqdm(zip(pos_images, pos_labels)):\n",
    "  img_features = extract_image_features(img)\n",
    "  tag_features = extract_tag_features(lables)\n",
    "  signle_features = np.concatenate(\n",
    "    (tag_features, np.tile(img_features, (len(tag_features), 1))), axis=1\n",
    "  )\n",
    "  # 标准化特征矩阵\n",
    "  signle_features = scaler.fit_transform(signle_features)\n",
    "  y.append(1)\n",
    "  features.append(signle_features)\n",
    "\n",
    "for img, lables in tqdm(zip(neg_images, neg_labels)):\n",
    "  img_features = extract_image_features(img)\n",
    "  tag_features = extract_tag_features(lables)\n",
    "  signle_features = np.concatenate(\n",
    "    (tag_features, np.tile(img_features, (len(tag_features), 1))), axis=1\n",
    "  )\n",
    "  # 标准化特征矩阵\n",
    "  signle_features = scaler.fit_transform(signle_features)\n",
    "  y.append(0)\n",
    "  features.append(signle_features)\n",
    "print(\"特征提取完毕！\\n\")\n"
   ]
  },
  {
   "attachments": {},
   "cell_type": "markdown",
   "metadata": {},
   "source": [
    "## SVM"
   ]
  },
  {
   "cell_type": "code",
   "execution_count": 22,
   "metadata": {},
   "outputs": [],
   "source": [
    "def train_model_SVM(X_train, X_test, y_train, y_test):\n",
    "    accuracy = []\n",
    "    precision = []\n",
    "    recall = []\n",
    "    f1 = []\n",
    "    kernel_list = [\"poly\", \"rbf\", \"sigmoid\"]\n",
    "    C_list = [0.1, 1, 10, 100]\n",
    "    print(\"kernel\\tC\\taccuracy\\tprecision\\trecall\\tf1\")\n",
    "    for kernel in tqdm(kernel_list):\n",
    "        for C in tqdm(C_list):\n",
    "            print(\"正在训练模型...\\n\")\n",
    "            print(\"kernel=\", kernel, \"C=\", C)\n",
    "            clf = SVC(kernel=kernel, C=C)\n",
    "            clf.fit(X_train, y_train)\n",
    "            y_pred = clf.predict(X_test)\n",
    "            accuracy = accuracy.append(accuracy_score(y_test, y_pred))\n",
    "            precision = precision.append(\n",
    "                precision_score(y_test, y_pred, average=\"macro\")\n",
    "            )\n",
    "            recall = recall.append(recall_score(y_test, y_pred, average=\"macro\"))\n",
    "            f1 = f1.append(f1_score(y_test, y_pred, average=\"macro\"))\n",
    "            time.sleep(0.01)\n",
    "\n",
    "    data = {'accuracy': accuracy, 'precision': precision, 'recall': recall, 'f1': f1}\n",
    "    df = pd.DataFrame(data, index=pd.MultiIndex.from_product([kernel_list, C_list], names=['kernel', 'C']))\n",
    "\n",
    "    # 打印表格\n",
    "    print(df)\n",
    "\n"
   ]
  },
  {
   "attachments": {},
   "cell_type": "markdown",
   "metadata": {},
   "source": [
    "## 划分数据集"
   ]
  },
  {
   "cell_type": "code",
   "execution_count": 23,
   "metadata": {},
   "outputs": [],
   "source": [
    "features_1d=[feature.flatten() for feature in features]"
   ]
  },
  {
   "cell_type": "code",
   "execution_count": 24,
   "metadata": {},
   "outputs": [],
   "source": [
    "\n",
    "# 将数据划分为训练集和测试集\n",
    "X_train, X_test, y_train, y_test = train_test_split(features_1d, y, test_size=0.2, random_state=42)\n"
   ]
  },
  {
   "attachments": {},
   "cell_type": "markdown",
   "metadata": {},
   "source": [
    "## CNN"
   ]
  },
  {
   "cell_type": "markdown",
   "metadata": {},
   "source": [
    "n_matrices = len(X_train)\n",
    "n_rows, n_cols = X_train[0].shape\n",
    "\n",
    "# 将二维矩阵列表features转换为三维矩阵X\n",
    "X_train = np.array(X_train).reshape((n_matrices, n_rows, n_cols,1))\n",
    "y_train = np.array(y_train)\n"
   ]
  },
  {
   "cell_type": "markdown",
   "metadata": {},
   "source": [
    "# 定义模型的输入层\n",
    "input_layer = Input(shape=X_train.shape[1:])\n",
    "\n",
    "# 定义模型的卷积层和池化层\n",
    "conv1 = Conv2D(32, kernel_size=(3, 3), activation='relu')(input_layer)\n",
    "pool1 = MaxPooling2D(pool_size=(2, 2))(conv1)\n",
    "conv2 = Conv2D(64, kernel_size=(3, 3), activation='relu')(pool1)\n",
    "pool2 = MaxPooling2D(pool_size=(2, 2))(conv2)\n",
    "\n",
    "# 定义模型的全连接层和输出层\n",
    "flat1 = Flatten()(pool2)\n",
    "dense1 = Dense(64, activation='relu')(flat1)\n",
    "output_layer = Dense(1, activation='sigmoid')(dense1)\n",
    "\n",
    "# 定义模型并编译\n",
    "model = Model(inputs=input_layer, outputs=output_layer)\n",
    "model.compile(loss='binary_crossentropy', optimizer='adam', metrics=['accuracy'])\n",
    "\n",
    "# 训练模型\n",
    "model.fit(X_train, y_train, epochs=10, batch_size=32, validation_data=(X_test, y_test))\n"
   ]
  },
  {
   "cell_type": "code",
   "execution_count": null,
   "metadata": {},
   "outputs": [],
   "source": []
  },
  {
   "cell_type": "code",
   "execution_count": 25,
   "metadata": {},
   "outputs": [
    {
     "name": "stdout",
     "output_type": "stream",
     "text": [
      "(14,)\n"
     ]
    }
   ],
   "source": [
    "print(np.array(y).shape)"
   ]
  },
  {
   "cell_type": "code",
   "execution_count": 26,
   "metadata": {},
   "outputs": [
    {
     "name": "stdout",
     "output_type": "stream",
     "text": [
      "(150,)\n",
      "[1 1 0 1 1 0 1 1 0 1 1 0 1 1 0 1 1 0 1 1 0 1 1 0 1 1 0 1 1 0 1 1 0 1 1 0 1\n",
      " 1 0 1 1 0 1 1 0 1 1 0 1 1 0 1 1 0 1 1 0 1 1 0 1 1 0 1 1 0 1 1 0 1 1 0 1 1\n",
      " 0 1 1 0 1 1 0 1 1 0 1 1 0 1 1 0 1 1 0 1 1 0 1 1 0 1 1 0 1 1 0 1 1 0 1 1 0\n",
      " 1 1 0 1 1 0 1 1 0 1 1 0 1 1 0 1 1 0 1 1 0 1 1 0 1 1 0 1 1 0 1 1 0 1 1 0 1\n",
      " 1 0]\n",
      "(3, 10, 5)\n",
      "[[[1 1 0 1 1]\n",
      "  [0 1 1 0 1]\n",
      "  [1 0 1 1 0]\n",
      "  [1 1 0 1 1]\n",
      "  [0 1 1 0 1]\n",
      "  [1 0 1 1 0]\n",
      "  [1 1 0 1 1]\n",
      "  [0 1 1 0 1]\n",
      "  [1 0 1 1 0]\n",
      "  [1 1 0 1 1]]\n",
      "\n",
      " [[0 1 1 0 1]\n",
      "  [1 0 1 1 0]\n",
      "  [1 1 0 1 1]\n",
      "  [0 1 1 0 1]\n",
      "  [1 0 1 1 0]\n",
      "  [1 1 0 1 1]\n",
      "  [0 1 1 0 1]\n",
      "  [1 0 1 1 0]\n",
      "  [1 1 0 1 1]\n",
      "  [0 1 1 0 1]]\n",
      "\n",
      " [[1 0 1 1 0]\n",
      "  [1 1 0 1 1]\n",
      "  [0 1 1 0 1]\n",
      "  [1 0 1 1 0]\n",
      "  [1 1 0 1 1]\n",
      "  [0 1 1 0 1]\n",
      "  [1 0 1 1 0]\n",
      "  [1 1 0 1 1]\n",
      "  [0 1 1 0 1]\n",
      "  [1 0 1 1 0]]]\n"
     ]
    }
   ],
   "source": [
    "import numpy as np\n",
    "\n",
    "# 假设您的一维列表data已经准备好\n",
    "n_sources = 3\n",
    "n_samples = 10\n",
    "n_features = 5\n",
    "data = np.array([1, 1, 0] * n_samples * n_features)  # repeat the array to match the desired shape\n",
    "print(data.shape)\n",
    "print(data)\n",
    "data = data.reshape((n_sources, n_samples, n_features))  # reshape the array to the desired shape\n",
    "# 将一维列表data转换为三维矩阵X\n",
    "print(data.shape)\n",
    "print(data)"
   ]
  },
  {
   "cell_type": "code",
   "execution_count": 30,
   "metadata": {},
   "outputs": [
    {
     "name": "stdout",
     "output_type": "stream",
     "text": [
      "kernel\tC\taccuracy\tprecision\trecall\tf1\n"
     ]
    },
    {
     "name": "stderr",
     "output_type": "stream",
     "text": [
      "  0%|          | 0/3 [00:00<?, ?it/s]"
     ]
    },
    {
     "name": "stdout",
     "output_type": "stream",
     "text": [
      "正在训练模型...\n",
      "\n",
      "kernel= poly C= 0.1\n"
     ]
    },
    {
     "name": "stderr",
     "output_type": "stream",
     "text": [
      "C:\\Users\\younger\\AppData\\Local\\Temp\\ipykernel_12812\\3691135916.py:16: FutureWarning: The frame.append method is deprecated and will be removed from pandas in a future version. Use pandas.concat instead.\n",
      "  accuracy = accuracy.append({'accuracy': accuracy_score(y_test, y_pred)}, ignore_index=True)\n",
      "C:\\Users\\younger\\AppData\\Local\\Temp\\ipykernel_12812\\3691135916.py:17: FutureWarning: The frame.append method is deprecated and will be removed from pandas in a future version. Use pandas.concat instead.\n",
      "  precision = precision.append({'precision': precision_score(y_test, y_pred)}, ignore_index=True)\n",
      "C:\\Users\\younger\\AppData\\Local\\Temp\\ipykernel_12812\\3691135916.py:18: FutureWarning: The frame.append method is deprecated and will be removed from pandas in a future version. Use pandas.concat instead.\n",
      "  recall = recall.append({'recall': recall_score(y_test, y_pred)}, ignore_index=True)\n",
      "C:\\Users\\younger\\AppData\\Local\\Temp\\ipykernel_12812\\3691135916.py:19: FutureWarning: The frame.append method is deprecated and will be removed from pandas in a future version. Use pandas.concat instead.\n",
      "  f1 = f1.append({'f1': f1_score(y_test, y_pred)}, ignore_index=True)\n"
     ]
    },
    {
     "name": "stdout",
     "output_type": "stream",
     "text": [
      "正在训练模型...\n",
      "\n",
      "kernel= poly C= 1\n"
     ]
    },
    {
     "name": "stderr",
     "output_type": "stream",
     "text": [
      "C:\\Users\\younger\\AppData\\Local\\Temp\\ipykernel_12812\\3691135916.py:16: FutureWarning: The frame.append method is deprecated and will be removed from pandas in a future version. Use pandas.concat instead.\n",
      "  accuracy = accuracy.append({'accuracy': accuracy_score(y_test, y_pred)}, ignore_index=True)\n",
      "C:\\Users\\younger\\AppData\\Local\\Temp\\ipykernel_12812\\3691135916.py:17: FutureWarning: The frame.append method is deprecated and will be removed from pandas in a future version. Use pandas.concat instead.\n",
      "  precision = precision.append({'precision': precision_score(y_test, y_pred)}, ignore_index=True)\n",
      "C:\\Users\\younger\\AppData\\Local\\Temp\\ipykernel_12812\\3691135916.py:18: FutureWarning: The frame.append method is deprecated and will be removed from pandas in a future version. Use pandas.concat instead.\n",
      "  recall = recall.append({'recall': recall_score(y_test, y_pred)}, ignore_index=True)\n",
      "C:\\Users\\younger\\AppData\\Local\\Temp\\ipykernel_12812\\3691135916.py:19: FutureWarning: The frame.append method is deprecated and will be removed from pandas in a future version. Use pandas.concat instead.\n",
      "  f1 = f1.append({'f1': f1_score(y_test, y_pred)}, ignore_index=True)\n"
     ]
    },
    {
     "name": "stdout",
     "output_type": "stream",
     "text": [
      "正在训练模型...\n",
      "\n",
      "kernel= poly C= 10\n"
     ]
    },
    {
     "name": "stderr",
     "output_type": "stream",
     "text": [
      "C:\\Users\\younger\\AppData\\Local\\Temp\\ipykernel_12812\\3691135916.py:16: FutureWarning: The frame.append method is deprecated and will be removed from pandas in a future version. Use pandas.concat instead.\n",
      "  accuracy = accuracy.append({'accuracy': accuracy_score(y_test, y_pred)}, ignore_index=True)\n",
      "C:\\Users\\younger\\AppData\\Local\\Temp\\ipykernel_12812\\3691135916.py:17: FutureWarning: The frame.append method is deprecated and will be removed from pandas in a future version. Use pandas.concat instead.\n",
      "  precision = precision.append({'precision': precision_score(y_test, y_pred)}, ignore_index=True)\n",
      "C:\\Users\\younger\\AppData\\Local\\Temp\\ipykernel_12812\\3691135916.py:18: FutureWarning: The frame.append method is deprecated and will be removed from pandas in a future version. Use pandas.concat instead.\n",
      "  recall = recall.append({'recall': recall_score(y_test, y_pred)}, ignore_index=True)\n",
      "C:\\Users\\younger\\AppData\\Local\\Temp\\ipykernel_12812\\3691135916.py:19: FutureWarning: The frame.append method is deprecated and will be removed from pandas in a future version. Use pandas.concat instead.\n",
      "  f1 = f1.append({'f1': f1_score(y_test, y_pred)}, ignore_index=True)\n"
     ]
    },
    {
     "name": "stdout",
     "output_type": "stream",
     "text": [
      "正在训练模型...\n",
      "\n",
      "kernel= poly C= 100\n"
     ]
    },
    {
     "name": "stderr",
     "output_type": "stream",
     "text": [
      "C:\\Users\\younger\\AppData\\Local\\Temp\\ipykernel_12812\\3691135916.py:16: FutureWarning: The frame.append method is deprecated and will be removed from pandas in a future version. Use pandas.concat instead.\n",
      "  accuracy = accuracy.append({'accuracy': accuracy_score(y_test, y_pred)}, ignore_index=True)\n",
      "C:\\Users\\younger\\AppData\\Local\\Temp\\ipykernel_12812\\3691135916.py:17: FutureWarning: The frame.append method is deprecated and will be removed from pandas in a future version. Use pandas.concat instead.\n",
      "  precision = precision.append({'precision': precision_score(y_test, y_pred)}, ignore_index=True)\n",
      "C:\\Users\\younger\\AppData\\Local\\Temp\\ipykernel_12812\\3691135916.py:18: FutureWarning: The frame.append method is deprecated and will be removed from pandas in a future version. Use pandas.concat instead.\n",
      "  recall = recall.append({'recall': recall_score(y_test, y_pred)}, ignore_index=True)\n",
      "C:\\Users\\younger\\AppData\\Local\\Temp\\ipykernel_12812\\3691135916.py:19: FutureWarning: The frame.append method is deprecated and will be removed from pandas in a future version. Use pandas.concat instead.\n",
      "  f1 = f1.append({'f1': f1_score(y_test, y_pred)}, ignore_index=True)\n",
      "100%|██████████| 4/4 [00:03<00:00,  1.23it/s]\n",
      " 33%|███▎      | 1/3 [00:03<00:06,  3.26s/it]"
     ]
    },
    {
     "name": "stdout",
     "output_type": "stream",
     "text": [
      "正在训练模型...\n",
      "\n",
      "kernel= rbf C= 0.1\n"
     ]
    },
    {
     "name": "stderr",
     "output_type": "stream",
     "text": [
      "C:\\Users\\younger\\AppData\\Local\\Temp\\ipykernel_12812\\3691135916.py:16: FutureWarning: The frame.append method is deprecated and will be removed from pandas in a future version. Use pandas.concat instead.\n",
      "  accuracy = accuracy.append({'accuracy': accuracy_score(y_test, y_pred)}, ignore_index=True)\n",
      "C:\\Users\\younger\\AppData\\Local\\Temp\\ipykernel_12812\\3691135916.py:17: FutureWarning: The frame.append method is deprecated and will be removed from pandas in a future version. Use pandas.concat instead.\n",
      "  precision = precision.append({'precision': precision_score(y_test, y_pred)}, ignore_index=True)\n",
      "C:\\Users\\younger\\AppData\\Local\\Temp\\ipykernel_12812\\3691135916.py:18: FutureWarning: The frame.append method is deprecated and will be removed from pandas in a future version. Use pandas.concat instead.\n",
      "  recall = recall.append({'recall': recall_score(y_test, y_pred)}, ignore_index=True)\n",
      "C:\\Users\\younger\\AppData\\Local\\Temp\\ipykernel_12812\\3691135916.py:19: FutureWarning: The frame.append method is deprecated and will be removed from pandas in a future version. Use pandas.concat instead.\n",
      "  f1 = f1.append({'f1': f1_score(y_test, y_pred)}, ignore_index=True)\n"
     ]
    },
    {
     "name": "stdout",
     "output_type": "stream",
     "text": [
      "正在训练模型...\n",
      "\n",
      "kernel= rbf C= 1\n"
     ]
    },
    {
     "name": "stderr",
     "output_type": "stream",
     "text": [
      "C:\\Users\\younger\\AppData\\Local\\Temp\\ipykernel_12812\\3691135916.py:16: FutureWarning: The frame.append method is deprecated and will be removed from pandas in a future version. Use pandas.concat instead.\n",
      "  accuracy = accuracy.append({'accuracy': accuracy_score(y_test, y_pred)}, ignore_index=True)\n",
      "C:\\Users\\younger\\AppData\\Local\\Temp\\ipykernel_12812\\3691135916.py:17: FutureWarning: The frame.append method is deprecated and will be removed from pandas in a future version. Use pandas.concat instead.\n",
      "  precision = precision.append({'precision': precision_score(y_test, y_pred)}, ignore_index=True)\n",
      "C:\\Users\\younger\\AppData\\Local\\Temp\\ipykernel_12812\\3691135916.py:18: FutureWarning: The frame.append method is deprecated and will be removed from pandas in a future version. Use pandas.concat instead.\n",
      "  recall = recall.append({'recall': recall_score(y_test, y_pred)}, ignore_index=True)\n",
      "C:\\Users\\younger\\AppData\\Local\\Temp\\ipykernel_12812\\3691135916.py:19: FutureWarning: The frame.append method is deprecated and will be removed from pandas in a future version. Use pandas.concat instead.\n",
      "  f1 = f1.append({'f1': f1_score(y_test, y_pred)}, ignore_index=True)\n"
     ]
    },
    {
     "name": "stdout",
     "output_type": "stream",
     "text": [
      "正在训练模型...\n",
      "\n",
      "kernel= rbf C= 10\n"
     ]
    },
    {
     "name": "stderr",
     "output_type": "stream",
     "text": [
      "C:\\Users\\younger\\AppData\\Local\\Temp\\ipykernel_12812\\3691135916.py:16: FutureWarning: The frame.append method is deprecated and will be removed from pandas in a future version. Use pandas.concat instead.\n",
      "  accuracy = accuracy.append({'accuracy': accuracy_score(y_test, y_pred)}, ignore_index=True)\n",
      "C:\\Users\\younger\\AppData\\Local\\Temp\\ipykernel_12812\\3691135916.py:17: FutureWarning: The frame.append method is deprecated and will be removed from pandas in a future version. Use pandas.concat instead.\n",
      "  precision = precision.append({'precision': precision_score(y_test, y_pred)}, ignore_index=True)\n",
      "C:\\Users\\younger\\AppData\\Local\\Temp\\ipykernel_12812\\3691135916.py:18: FutureWarning: The frame.append method is deprecated and will be removed from pandas in a future version. Use pandas.concat instead.\n",
      "  recall = recall.append({'recall': recall_score(y_test, y_pred)}, ignore_index=True)\n",
      "C:\\Users\\younger\\AppData\\Local\\Temp\\ipykernel_12812\\3691135916.py:19: FutureWarning: The frame.append method is deprecated and will be removed from pandas in a future version. Use pandas.concat instead.\n",
      "  f1 = f1.append({'f1': f1_score(y_test, y_pred)}, ignore_index=True)\n"
     ]
    },
    {
     "name": "stdout",
     "output_type": "stream",
     "text": [
      "正在训练模型...\n",
      "\n",
      "kernel= rbf C= 100\n"
     ]
    },
    {
     "name": "stderr",
     "output_type": "stream",
     "text": [
      "C:\\Users\\younger\\AppData\\Local\\Temp\\ipykernel_12812\\3691135916.py:16: FutureWarning: The frame.append method is deprecated and will be removed from pandas in a future version. Use pandas.concat instead.\n",
      "  accuracy = accuracy.append({'accuracy': accuracy_score(y_test, y_pred)}, ignore_index=True)\n",
      "C:\\Users\\younger\\AppData\\Local\\Temp\\ipykernel_12812\\3691135916.py:17: FutureWarning: The frame.append method is deprecated and will be removed from pandas in a future version. Use pandas.concat instead.\n",
      "  precision = precision.append({'precision': precision_score(y_test, y_pred)}, ignore_index=True)\n",
      "C:\\Users\\younger\\AppData\\Local\\Temp\\ipykernel_12812\\3691135916.py:18: FutureWarning: The frame.append method is deprecated and will be removed from pandas in a future version. Use pandas.concat instead.\n",
      "  recall = recall.append({'recall': recall_score(y_test, y_pred)}, ignore_index=True)\n",
      "C:\\Users\\younger\\AppData\\Local\\Temp\\ipykernel_12812\\3691135916.py:19: FutureWarning: The frame.append method is deprecated and will be removed from pandas in a future version. Use pandas.concat instead.\n",
      "  f1 = f1.append({'f1': f1_score(y_test, y_pred)}, ignore_index=True)\n",
      "100%|██████████| 4/4 [00:04<00:00,  1.09s/it]\n",
      " 67%|██████▋   | 2/3 [00:07<00:03,  3.91s/it]"
     ]
    },
    {
     "name": "stdout",
     "output_type": "stream",
     "text": [
      "正在训练模型...\n",
      "\n",
      "kernel= sigmoid C= 0.1\n"
     ]
    },
    {
     "name": "stderr",
     "output_type": "stream",
     "text": [
      "C:\\Users\\younger\\AppData\\Local\\Temp\\ipykernel_12812\\3691135916.py:16: FutureWarning: The frame.append method is deprecated and will be removed from pandas in a future version. Use pandas.concat instead.\n",
      "  accuracy = accuracy.append({'accuracy': accuracy_score(y_test, y_pred)}, ignore_index=True)\n",
      "C:\\Users\\younger\\AppData\\Local\\Temp\\ipykernel_12812\\3691135916.py:17: FutureWarning: The frame.append method is deprecated and will be removed from pandas in a future version. Use pandas.concat instead.\n",
      "  precision = precision.append({'precision': precision_score(y_test, y_pred)}, ignore_index=True)\n",
      "C:\\Users\\younger\\AppData\\Local\\Temp\\ipykernel_12812\\3691135916.py:18: FutureWarning: The frame.append method is deprecated and will be removed from pandas in a future version. Use pandas.concat instead.\n",
      "  recall = recall.append({'recall': recall_score(y_test, y_pred)}, ignore_index=True)\n",
      "C:\\Users\\younger\\AppData\\Local\\Temp\\ipykernel_12812\\3691135916.py:19: FutureWarning: The frame.append method is deprecated and will be removed from pandas in a future version. Use pandas.concat instead.\n",
      "  f1 = f1.append({'f1': f1_score(y_test, y_pred)}, ignore_index=True)\n"
     ]
    },
    {
     "name": "stdout",
     "output_type": "stream",
     "text": [
      "正在训练模型...\n",
      "\n",
      "kernel= sigmoid C= 1\n"
     ]
    },
    {
     "name": "stderr",
     "output_type": "stream",
     "text": [
      "C:\\Users\\younger\\AppData\\Local\\Temp\\ipykernel_12812\\3691135916.py:16: FutureWarning: The frame.append method is deprecated and will be removed from pandas in a future version. Use pandas.concat instead.\n",
      "  accuracy = accuracy.append({'accuracy': accuracy_score(y_test, y_pred)}, ignore_index=True)\n",
      "C:\\Users\\younger\\AppData\\Local\\Temp\\ipykernel_12812\\3691135916.py:17: FutureWarning: The frame.append method is deprecated and will be removed from pandas in a future version. Use pandas.concat instead.\n",
      "  precision = precision.append({'precision': precision_score(y_test, y_pred)}, ignore_index=True)\n",
      "C:\\Users\\younger\\AppData\\Local\\Temp\\ipykernel_12812\\3691135916.py:18: FutureWarning: The frame.append method is deprecated and will be removed from pandas in a future version. Use pandas.concat instead.\n",
      "  recall = recall.append({'recall': recall_score(y_test, y_pred)}, ignore_index=True)\n",
      "C:\\Users\\younger\\AppData\\Local\\Temp\\ipykernel_12812\\3691135916.py:19: FutureWarning: The frame.append method is deprecated and will be removed from pandas in a future version. Use pandas.concat instead.\n",
      "  f1 = f1.append({'f1': f1_score(y_test, y_pred)}, ignore_index=True)\n"
     ]
    },
    {
     "name": "stdout",
     "output_type": "stream",
     "text": [
      "正在训练模型...\n",
      "\n",
      "kernel= sigmoid C= 10\n"
     ]
    },
    {
     "name": "stderr",
     "output_type": "stream",
     "text": [
      "C:\\Users\\younger\\AppData\\Local\\Temp\\ipykernel_12812\\3691135916.py:16: FutureWarning: The frame.append method is deprecated and will be removed from pandas in a future version. Use pandas.concat instead.\n",
      "  accuracy = accuracy.append({'accuracy': accuracy_score(y_test, y_pred)}, ignore_index=True)\n",
      "C:\\Users\\younger\\AppData\\Local\\Temp\\ipykernel_12812\\3691135916.py:17: FutureWarning: The frame.append method is deprecated and will be removed from pandas in a future version. Use pandas.concat instead.\n",
      "  precision = precision.append({'precision': precision_score(y_test, y_pred)}, ignore_index=True)\n",
      "C:\\Users\\younger\\AppData\\Local\\Temp\\ipykernel_12812\\3691135916.py:18: FutureWarning: The frame.append method is deprecated and will be removed from pandas in a future version. Use pandas.concat instead.\n",
      "  recall = recall.append({'recall': recall_score(y_test, y_pred)}, ignore_index=True)\n",
      "C:\\Users\\younger\\AppData\\Local\\Temp\\ipykernel_12812\\3691135916.py:19: FutureWarning: The frame.append method is deprecated and will be removed from pandas in a future version. Use pandas.concat instead.\n",
      "  f1 = f1.append({'f1': f1_score(y_test, y_pred)}, ignore_index=True)\n"
     ]
    },
    {
     "name": "stdout",
     "output_type": "stream",
     "text": [
      "正在训练模型...\n",
      "\n",
      "kernel= sigmoid C= 100\n"
     ]
    },
    {
     "name": "stderr",
     "output_type": "stream",
     "text": [
      "C:\\Users\\younger\\AppData\\Local\\Temp\\ipykernel_12812\\3691135916.py:16: FutureWarning: The frame.append method is deprecated and will be removed from pandas in a future version. Use pandas.concat instead.\n",
      "  accuracy = accuracy.append({'accuracy': accuracy_score(y_test, y_pred)}, ignore_index=True)\n",
      "C:\\Users\\younger\\AppData\\Local\\Temp\\ipykernel_12812\\3691135916.py:17: FutureWarning: The frame.append method is deprecated and will be removed from pandas in a future version. Use pandas.concat instead.\n",
      "  precision = precision.append({'precision': precision_score(y_test, y_pred)}, ignore_index=True)\n",
      "C:\\Users\\younger\\AppData\\Local\\Temp\\ipykernel_12812\\3691135916.py:18: FutureWarning: The frame.append method is deprecated and will be removed from pandas in a future version. Use pandas.concat instead.\n",
      "  recall = recall.append({'recall': recall_score(y_test, y_pred)}, ignore_index=True)\n",
      "C:\\Users\\younger\\AppData\\Local\\Temp\\ipykernel_12812\\3691135916.py:19: FutureWarning: The frame.append method is deprecated and will be removed from pandas in a future version. Use pandas.concat instead.\n",
      "  f1 = f1.append({'f1': f1_score(y_test, y_pred)}, ignore_index=True)\n",
      "100%|██████████| 4/4 [00:03<00:00,  1.23it/s]\n",
      "100%|██████████| 3/3 [00:10<00:00,  3.63s/it]"
     ]
    },
    {
     "name": "stdout",
     "output_type": "stream",
     "text": [
      "                accuracy  precision  recall        f1\n",
      "(poly, 0.1)     0.333333   0.333333     1.0  0.500000\n",
      "(poly, 1)       0.333333   0.333333     1.0  0.500000\n",
      "(poly, 10)      0.333333   0.333333     1.0  0.500000\n",
      "(poly, 100)     0.333333   0.333333     1.0  0.500000\n",
      "(rbf, 0.1)      0.333333   0.333333     1.0  0.500000\n",
      "(rbf, 1)        0.333333   0.333333     1.0  0.500000\n",
      "(rbf, 10)       0.666667   0.500000     1.0  0.666667\n",
      "(rbf, 100)      0.666667   0.500000     1.0  0.666667\n",
      "(sigmoid, 0.1)  0.333333   0.333333     1.0  0.500000\n",
      "(sigmoid, 1)    0.333333   0.333333     1.0  0.500000\n",
      "(sigmoid, 10)   0.666667   0.000000     0.0  0.000000\n",
      "(sigmoid, 100)  0.666667   0.000000     0.0  0.000000\n"
     ]
    },
    {
     "name": "stderr",
     "output_type": "stream",
     "text": [
      "\n"
     ]
    }
   ],
   "source": [
    "# 训练模型\n",
    "accuracy = pd.DataFrame(columns=['accuracy'])\n",
    "precision = pd.DataFrame(columns=['precision'])\n",
    "recall = pd.DataFrame(columns=['recall'])\n",
    "f1 = pd.DataFrame(columns=['f1'])\n",
    "kernel_list = [\"poly\", \"rbf\", \"sigmoid\"]\n",
    "C_list = [0.1, 1, 10, 100]\n",
    "print(\"kernel\\tC\\taccuracy\\tprecision\\trecall\\tf1\")\n",
    "for kernel in tqdm(kernel_list):\n",
    "    for C in tqdm(C_list):\n",
    "        print(\"正在训练模型...\\n\")\n",
    "        print(\"kernel=\", kernel, \"C=\", C)\n",
    "        clf = SVC(kernel=kernel, C=C)\n",
    "        clf.fit(X_train, y_train)\n",
    "        y_pred = clf.predict(X_test)\n",
    "        accuracy = accuracy.append({'accuracy': accuracy_score(y_test, y_pred)}, ignore_index=True)\n",
    "        precision = precision.append({'precision': precision_score(y_test, y_pred)}, ignore_index=True)\n",
    "        recall = recall.append({'recall': recall_score(y_test, y_pred)}, ignore_index=True)\n",
    "        f1 = f1.append({'f1': f1_score(y_test, y_pred)}, ignore_index=True)\n",
    "\n",
    "# 保存表格\n",
    "from itertools import product\n",
    "df = pd.concat([accuracy, precision, recall, f1], axis=1)\n",
    "df.columns = ['accuracy', 'precision', 'recall', 'f1']\n",
    "df.index = [(kernel, C) for kernel, C in product(kernel_list, C_list)]\n",
    "\n",
    "# 打印表格\n",
    "print(df)\n",
    "\n",
    "\n"
   ]
  }
 ],
 "metadata": {
  "kernelspec": {
   "display_name": "Python 3",
   "language": "python",
   "name": "python3"
  },
  "language_info": {
   "codemirror_mode": {
    "name": "ipython",
    "version": 3
   },
   "file_extension": ".py",
   "mimetype": "text/x-python",
   "name": "python",
   "nbconvert_exporter": "python",
   "pygments_lexer": "ipython3",
   "version": "3.8.2"
  },
  "orig_nbformat": 4
 },
 "nbformat": 4,
 "nbformat_minor": 2
}
